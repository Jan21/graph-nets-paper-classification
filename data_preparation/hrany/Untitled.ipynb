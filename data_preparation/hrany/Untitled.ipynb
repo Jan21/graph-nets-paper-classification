{
 "cells": [
  {
   "cell_type": "code",
   "execution_count": 1,
   "metadata": {},
   "outputs": [],
   "source": [
    "import json\n",
    "with open('data_connected_graph.jsonl') as f:\n",
    "    a = []\n",
    "    for line in f.readlines():\n",
    "        dic = json.loads(line)\n",
    "        a.append(dic)"
   ]
  },
  {
   "cell_type": "code",
   "execution_count": 3,
   "metadata": {},
   "outputs": [],
   "source": [
    "id_to_line = {}\n",
    "line_to_id = {}\n",
    "for i in range(len(a)):\n",
    "    id_to_line.update({a[i][\"id\"] : i})\n",
    "    line_to_id.update({i : a[i][\"id\"]})"
   ]
  },
  {
   "cell_type": "code",
   "execution_count": 10,
   "metadata": {},
   "outputs": [],
   "source": [
    "graph_id_to_line = {}\n",
    "for i in a:\n",
    "    target = []\n",
    "    for c in i[\"outCitations\"]:\n",
    "        target.append(id_to_line[c])\n",
    "    graph.update({i[\"id\"] : target})"
   ]
  },
  {
   "cell_type": "code",
   "execution_count": 16,
   "metadata": {},
   "outputs": [
    {
     "data": {
      "text/plain": [
       "[10937, 4181, 10284, 2406]"
      ]
     },
     "execution_count": 16,
     "metadata": {},
     "output_type": "execute_result"
    }
   ],
   "source": [
    "graph['1c006a4957c2addd92e11a5c664f2d9f2b45cde1']"
   ]
  },
  {
   "cell_type": "code",
   "execution_count": 15,
   "metadata": {},
   "outputs": [
    {
     "data": {
      "text/plain": [
       "{'id': '1c006a4957c2addd92e11a5c664f2d9f2b45cde1',\n",
       " 'title': 'Variational Gaussian Process State-Space Models',\n",
       " 'paperAbstract': 'State-space models have been successfully used for more than fifty years in different areas of science and engineering. We present a procedure for efficient variational Bayesian learning of nonlinear state-space models based on sparse Gaussian processes. The result of learning is a tractable posterior over nonlinear dynamical systems. In comparison to conventional parametric models, we offer the possibility to straightforwardly trade off model capacity and computational cost whilst avoiding overfitting. Our main algorithm uses a hybrid inference approach combining variational Bayes and sequential Monte Carlo. We also present stochastic variational inference and online learning approaches for fast learning with long time series.',\n",
       " 'outCitations': ['43dea0a862d519cbcddb5279d6318522cc3cf441',\n",
       "  '468e6c3ff0ac60f5dd803fd4ad21e65aa5f52c00',\n",
       "  '74014f17c54eddf72f601cbe642ab904d3aeccf4',\n",
       "  'd207f0567f64a73a0ec899a1b5869faeccdf2f83'],\n",
       " 'venue': 'ML',\n",
       " 'keyPhrases': ['MCMC', 'SSM', 'PAR', 'Dynamical', 'Gaussian Processes']}"
      ]
     },
     "execution_count": 15,
     "metadata": {},
     "output_type": "execute_result"
    }
   ],
   "source": [
    "a[12]"
   ]
  },
  {
   "cell_type": "code",
   "execution_count": 17,
   "metadata": {},
   "outputs": [],
   "source": [
    "graph = {}\n",
    "for i in range(len(a)):\n",
    "    target = []\n",
    "    for c in a[i][\"outCitations\"]:\n",
    "        target.append(id_to_line[c])\n",
    "    graph.update({i : target})"
   ]
  },
  {
   "cell_type": "code",
   "execution_count": 19,
   "metadata": {},
   "outputs": [
    {
     "data": {
      "text/plain": [
       "[10937, 4181, 10284, 2406]"
      ]
     },
     "execution_count": 19,
     "metadata": {},
     "output_type": "execute_result"
    }
   ],
   "source": [
    "graph[12]"
   ]
  },
  {
   "cell_type": "code",
   "execution_count": 20,
   "metadata": {},
   "outputs": [],
   "source": [
    "import pickle"
   ]
  },
  {
   "cell_type": "code",
   "execution_count": 21,
   "metadata": {},
   "outputs": [],
   "source": [
    "with open('id_to_line.pickle', 'wb') as handle:\n",
    "    pickle.dump(id_to_line, handle, protocol=pickle.HIGHEST_PROTOCOL)"
   ]
  },
  {
   "cell_type": "code",
   "execution_count": 22,
   "metadata": {},
   "outputs": [],
   "source": [
    "with open('line_to_id.pickle', 'wb') as handle:\n",
    "    pickle.dump(line_to_id, handle, protocol=pickle.HIGHEST_PROTOCOL)"
   ]
  },
  {
   "cell_type": "code",
   "execution_count": null,
   "metadata": {},
   "outputs": [],
   "source": [
    "with open('g', 'wb') as handle:\n",
    "    pickle.dump(line_to_id, handle, protocol=pickle.HIGHEST_PROTOCOL)"
   ]
  }
 ],
 "metadata": {
  "kernelspec": {
   "display_name": "Python 3",
   "language": "python",
   "name": "python3"
  },
  "language_info": {
   "codemirror_mode": {
    "name": "ipython",
    "version": 3
   },
   "file_extension": ".py",
   "mimetype": "text/x-python",
   "name": "python",
   "nbconvert_exporter": "python",
   "pygments_lexer": "ipython3",
   "version": "3.7.0"
  }
 },
 "nbformat": 4,
 "nbformat_minor": 2
}
